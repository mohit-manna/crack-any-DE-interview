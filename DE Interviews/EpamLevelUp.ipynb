{
 "cells": [
  {
   "cell_type": "markdown",
   "id": "1c634e96",
   "metadata": {},
   "source": [
    "What is the difference between Spark SQL and the Spark DataFrame API in terms of performance? For example, if I implement the exact same logic using Spark SQL (as a query) and with the DataFrame API, which one is likely to perform better at runtime, and why?\n",
    "\n",
    "What is the role of the VACUUM command in Databricks? What are its use cases?\n",
    " \n",
    "What additional features - especially in the area of security - does Databricks offer compared to vanilla Apache Spark and other \n",
    "Spark-based services? Please mention some of the features you have worked with and explain how they enhanced your data processing pipelines or boosted productivity in your projects.\n",
    " \n",
    "Please name some of the Azure services you have worked with and categorize them under PaaS, SaaS, and IaaS models. What are the benefits and drawbacks of each service model? In your explanation, please highlight how they differ in terms of control, flexibility, pricing, and typical use cases.\n",
    " \n",
    "What is an integration runtime in Azure Data Factory, and specifically, what is a self-hosted integration runtime? What is a classic use case where this type of runtime?\n",
    " \n",
    "What is the difference between code quality and data quality? How can we achieve good data quality in ETL pipelines?\n",
    " \n",
    "Could you please compare Scrum and Kanban development processes in terms of planning? Is it correct to say that Kanban has no planning phase at all? Which one would you prefer in which cases?\n",
    " \n",
    "Tell us about the Data Lakes you have built in your projects. Did you use the Medallion Architecture? What are the advantages and disadvantages of the Medallion Architecture, and what are its alternatives? Which layer do you consider the most important? What is the difference between a Data Lake and a Lakehouse?\n",
    " \n",
    "Have you worked with Spark on AWS Cloud? Please compare different methods of launching Spark jobs in AWS Cloud, discussing the advantages and disadvantages of each."
   ]
  }
 ],
 "metadata": {
  "language_info": {
   "name": "python"
  }
 },
 "nbformat": 4,
 "nbformat_minor": 5
}
